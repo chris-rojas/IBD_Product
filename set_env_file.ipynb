{
 "cells": [
  {
   "cell_type": "code",
   "execution_count": 1,
   "id": "6180eefd-e75e-43fe-8bde-d7e71a73857f",
   "metadata": {},
   "outputs": [],
   "source": [
    "import os"
   ]
  },
  {
   "cell_type": "code",
   "execution_count": 2,
   "id": "2359e577-fd12-4de7-a9f1-9a19dfaf8bf4",
   "metadata": {},
   "outputs": [],
   "source": [
    "# ### To install dependencies, run this cell with the line below uncommented\n",
    "# !python -m pip install langchain-openai==0.0.6 openai==1.12.0 langchain python-dotenv faiss-cpu pypdf redlines panel"
   ]
  },
  {
   "cell_type": "code",
   "execution_count": 5,
   "id": "6f53420c-2cb9-448c-b2bc-f118d8b3f152",
   "metadata": {},
   "outputs": [],
   "source": [
    "environ_dict = dict(os.environ)\n",
    "\n",
    "environ_dict[\"AZURE_OPENAI_CHAT_API_KEY\"] = \"Enter chat key\"\n",
    "environ_dict[\"AZURE_OPENAI_CHAT_ENDPOINT\"] = \"https://chris-m2ta5itr-westeurope.openai.azure.com/openai/deployments/gpt-35-turbo/chat/completions?api-version=2024-08-01-preview\"\n",
    "environ_dict[\"AZURE_OPENAI_CHAT_VERSION\"] = \"2024-08-01-preview\"\n",
    "environ_dict[\"AZURE_OPENAI_CHAT_DEPLOYMENT\"] = \"gpt-35-turbo\"\n",
    "\n",
    "environ_dict[\"AZURE_OPENAI_EMBEDDINGS_API_KEY\"] = \"Enter embeddings key\"\n",
    "environ_dict[\"AZURE_OPENAI_EMBEDDINGS_ENDPOINT\"] = \"https://hackathantrainingsecondinstance.openai.azure.com/openai/deployments/text-embedding-ada-002/embeddings?api-version=2023-05-15\"\n",
    "environ_dict[\"AZURE_OPENAI_EMBEDDINGS_VERSION\"] = \"2023-05-15\"\n",
    "environ_dict[\"AZURE_OPENAI_EMBEDDINGS_DEPLOYMENT\"] = \"text-embedding-ada-002\""
   ]
  },
  {
   "cell_type": "code",
   "execution_count": 4,
   "id": "98314112-b2e5-4f6f-8478-3f16b37cb2b4",
   "metadata": {},
   "outputs": [],
   "source": [
    "for idx, key in enumerate(environ_dict):\n",
    "    command = \"w\" if idx==0 else \"a\"\n",
    "    with open(\".env\", command) as f:\n",
    "        f.write(f\"{key}={environ_dict[key]}\\n\")"
   ]
  },
  {
   "cell_type": "code",
   "execution_count": null,
   "id": "f948bdbf-ebc5-41d0-921b-590de2dc7bef",
   "metadata": {},
   "outputs": [],
   "source": []
  }
 ],
 "metadata": {
  "kernelspec": {
   "display_name": "Python 3 (ipykernel)",
   "language": "python",
   "name": "python3"
  },
  "language_info": {
   "codemirror_mode": {
    "name": "ipython",
    "version": 3
   },
   "file_extension": ".py",
   "mimetype": "text/x-python",
   "name": "python",
   "nbconvert_exporter": "python",
   "pygments_lexer": "ipython3",
   "version": "3.12.7"
  }
 },
 "nbformat": 4,
 "nbformat_minor": 5
}
