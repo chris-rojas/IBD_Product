{
 "cells": [
  {
   "cell_type": "code",
   "execution_count": 15,
   "id": "fff1d313-f353-4dd2-9526-9caffc553603",
   "metadata": {},
   "outputs": [
    {
     "data": {
      "text/plain": [
       "'gpt-35-turbo'"
      ]
     },
     "execution_count": 15,
     "metadata": {},
     "output_type": "execute_result"
    }
   ],
   "source": [
    "import os\n",
    "\n",
    "from dotenv import load_dotenv, find_dotenv\n",
    "_ = load_dotenv(find_dotenv()) # read local .env file\n",
    "\n",
    "os.environ['AZURE_OPENAI_API_KEY'] = os.getenv(\"AZURE_OPENAI_CHAT_API_KEY\")\n",
    "os.environ['AZURE_OPENAI_ENDPOINT'] = os.getenv(\"AZURE_OPENAI_CHAT_ENDPOINT\")\n",
    "os.environ['OPENAI_API_VERSION'] = os.getenv(\"AZURE_OPENAI_CHAT_VERSION\")\n",
    "os.getenv(\"AZURE_OPENAI_CHAT_DEPLOYMENT\")"
   ]
  },
  {
   "cell_type": "code",
   "execution_count": 16,
   "id": "3acaf6c5-3f71-47fe-a162-277bc4b05ff9",
   "metadata": {},
   "outputs": [],
   "source": [
    "from langchain_openai import AzureChatOpenAI"
   ]
  },
  {
   "cell_type": "code",
   "execution_count": 9,
   "id": "149b4bdb-bc82-4f41-a155-d5450503f0d0",
   "metadata": {},
   "outputs": [],
   "source": [
    "llm = AzureChatOpenAI(azure_deployment=os.getenv(\"AZURE_OPENAI_CHAT_DEPLOYMENT\"),\n",
    "                azure_endpoint=os.getenv(\"AZURE_OPENAI_CHAT_ENDPOINT\"),\n",
    "                openai_api_key=os.getenv(\"AZURE_OPENAI_CHAT_API_KEY\"),\n",
    "                api_version=os.getenv(\"AZURE_OPENAI_CHAT_VERSION\"),\n",
    "                temperature=0.0)"
   ]
  },
  {
   "cell_type": "code",
   "execution_count": 40,
   "id": "16311750-4341-442d-a85b-4246ba6c63a1",
   "metadata": {},
   "outputs": [
    {
     "name": "stdout",
     "output_type": "stream",
     "text": [
      "content=\"I'm sorry, but `count_emails` is a dummy function that doesn't actually count the number of emails. It just returns `2 * last_n_days` for any input value of `last_n_days`. So if `last_n_days` is 5, `count_emails` would return 10.\" additional_kwargs={'refusal': None} response_metadata={'token_usage': {'completion_tokens': 64, 'prompt_tokens': 99, 'total_tokens': 163, 'completion_tokens_details': None, 'prompt_tokens_details': None}, 'model_name': 'gpt-35-turbo', 'system_fingerprint': None, 'prompt_filter_results': [{'prompt_index': 0, 'content_filter_results': {'hate': {'filtered': False, 'severity': 'safe'}, 'jailbreak': {'filtered': False, 'detected': False}, 'self_harm': {'filtered': False, 'severity': 'safe'}, 'sexual': {'filtered': False, 'severity': 'safe'}, 'violence': {'filtered': False, 'severity': 'safe'}}}], 'finish_reason': 'stop', 'logprobs': None, 'content_filter_results': {'hate': {'filtered': False, 'severity': 'safe'}, 'self_harm': {'filtered': False, 'severity': 'safe'}, 'sexual': {'filtered': False, 'severity': 'safe'}, 'violence': {'filtered': False, 'severity': 'safe'}}} id='run-77999e73-0768-46b9-9558-e3ff5bd98d47-0' usage_metadata={'input_tokens': 99, 'output_tokens': 64, 'total_tokens': 163, 'input_token_details': {}, 'output_token_details': {}}\n"
     ]
    },
    {
     "data": {
      "text/plain": [
       "[]"
      ]
     },
     "execution_count": 40,
     "metadata": {},
     "output_type": "execute_result"
    }
   ],
   "source": [
    "from typing import Dict, List\n",
    "\n",
    "from langchain_core.messages import AIMessage\n",
    "from langchain_core.runnables import Runnable, RunnablePassthrough\n",
    "from langchain_core.tools import tool\n",
    "\n",
    "\n",
    "@tool\n",
    "def count_emails(last_n_days: int) -> int:\n",
    "    \"\"\"Dummy function to count number of e-mails. Returns 2 * last_n_days.\"\"\"\n",
    "    return last_n_days * 2\n",
    "\n",
    "\n",
    "@tool\n",
    "def send_email(message: str, recipient: str) -> str:\n",
    "    \"\"\"Dummy function for sending an e-mail.\"\"\"\n",
    "    return f\"Successfully sent email to {recipient}.\"\n",
    "\n",
    "\n",
    "tools = [count_emails, send_email]\n",
    "llm_with_tools = llm.bind_tools(tools)\n",
    "\n",
    "\n",
    "def call_tools(msg: AIMessage) -> List[Dict]:\n",
    "    \"\"\"Simple sequential tool calling helper.\"\"\"\n",
    "    tool_map = {tool.name: tool for tool in tools}\n",
    "    tool_calls = msg.tool_calls.copy()\n",
    "    print(msg)\n",
    "    for tool_call in tool_calls:\n",
    "        tool_call[\"output\"] = tool_map[tool_call[\"name\"]].invoke(tool_call[\"args\"])\n",
    "    return tool_calls\n",
    "\n",
    "\n",
    "chain = llm_with_tools | call_tools\n",
    "chain.invoke(\"what is count_emails if last_n_days=5?\")"
   ]
  },
  {
   "cell_type": "code",
   "execution_count": 41,
   "id": "df55dc36-ee4b-425b-9d5c-6459b2902c0f",
   "metadata": {},
   "outputs": [],
   "source": [
    "import json\n",
    "\n",
    "\n",
    "class NotApproved(Exception):\n",
    "    \"\"\"Custom exception.\"\"\"\n",
    "\n",
    "\n",
    "def human_approval(msg: AIMessage) -> AIMessage:\n",
    "    \"\"\"Responsible for passing through its input or raising an exception.\n",
    "\n",
    "    Args:\n",
    "        msg: output from the chat model\n",
    "\n",
    "    Returns:\n",
    "        msg: original output from the msg\n",
    "    \"\"\"\n",
    "    tool_strs = \"\\n\\n\".join(\n",
    "        json.dumps(tool_call, indent=2) for tool_call in msg.tool_calls\n",
    "    )\n",
    "    input_msg = (\n",
    "        f\"Do you approve of the following tool invocations\\n\\n{tool_strs}\\n\\n\"\n",
    "        \"Anything except 'Y'/'Yes' (case-insensitive) will be treated as a no.\\n >>>\"\n",
    "    )\n",
    "    resp = input(input_msg)\n",
    "    if resp.lower() not in (\"yes\", \"y\"):\n",
    "        raise NotApproved(f\"Tool invocations not approved:\\n\\n{tool_strs}\")\n",
    "    return msg"
   ]
  },
  {
   "cell_type": "code",
   "execution_count": 42,
   "id": "7e7236f9-82b4-44ad-9e14-aed99d0ac014",
   "metadata": {},
   "outputs": [
    {
     "name": "stdin",
     "output_type": "stream",
     "text": [
      "Do you approve of the following tool invocations\n",
      "\n",
      "\n",
      "\n",
      "Anything except 'Y'/'Yes' (case-insensitive) will be treated as a no.\n",
      " >>> Y\n"
     ]
    },
    {
     "name": "stdout",
     "output_type": "stream",
     "text": [
      "content=\"I'm sorry, but `count_emails` is a dummy function that doesn't actually count the number of emails. It just returns `2 * last_n_days` for any input value of `last_n_days`. So if `last_n_days` is 5, `count_emails` would return 10.\" additional_kwargs={'refusal': None} response_metadata={'token_usage': {'completion_tokens': 64, 'prompt_tokens': 99, 'total_tokens': 163, 'completion_tokens_details': None, 'prompt_tokens_details': None}, 'model_name': 'gpt-35-turbo', 'system_fingerprint': None, 'prompt_filter_results': [{'prompt_index': 0, 'content_filter_results': {'hate': {'filtered': False, 'severity': 'safe'}, 'jailbreak': {'filtered': False, 'detected': False}, 'self_harm': {'filtered': False, 'severity': 'safe'}, 'sexual': {'filtered': False, 'severity': 'safe'}, 'violence': {'filtered': False, 'severity': 'safe'}}}], 'finish_reason': 'stop', 'logprobs': None, 'content_filter_results': {'hate': {'filtered': False, 'severity': 'safe'}, 'self_harm': {'filtered': False, 'severity': 'safe'}, 'sexual': {'filtered': False, 'severity': 'safe'}, 'violence': {'filtered': False, 'severity': 'safe'}}} id='run-5edf9107-a35c-4da3-858f-cf6188c2b872-0' usage_metadata={'input_tokens': 99, 'output_tokens': 64, 'total_tokens': 163, 'input_token_details': {}, 'output_token_details': {}}\n"
     ]
    },
    {
     "data": {
      "text/plain": [
       "[]"
      ]
     },
     "execution_count": 42,
     "metadata": {},
     "output_type": "execute_result"
    }
   ],
   "source": [
    "chain = llm_with_tools | human_approval | call_tools\n",
    "chain.invoke(\"what is count_emails if last_n_days=5?\")"
   ]
  },
  {
   "cell_type": "code",
   "execution_count": 43,
   "id": "32bfc9c1-b4bd-4315-a2a8-edc8e4ef686d",
   "metadata": {},
   "outputs": [
    {
     "name": "stdin",
     "output_type": "stream",
     "text": [
      "Do you approve of the following tool invocations\n",
      "\n",
      "\n",
      "\n",
      "Anything except 'Y'/'Yes' (case-insensitive) will be treated as a no.\n",
      " >>> N\n"
     ]
    },
    {
     "name": "stdout",
     "output_type": "stream",
     "text": [
      "\n",
      "Tool invocations not approved:\n",
      "\n",
      "\n"
     ]
    }
   ],
   "source": [
    "try:\n",
    "    chain.invoke(\"Send sally@gmail.com an email saying 'What's up homie'\")\n",
    "except NotApproved as e:\n",
    "    print()\n",
    "    print(e)"
   ]
  },
  {
   "cell_type": "code",
   "execution_count": null,
   "id": "dc15bc5d-6a12-4c2d-81a9-bd4480be7f48",
   "metadata": {},
   "outputs": [],
   "source": []
  }
 ],
 "metadata": {
  "kernelspec": {
   "display_name": "Python 3 (ipykernel)",
   "language": "python",
   "name": "python3"
  },
  "language_info": {
   "codemirror_mode": {
    "name": "ipython",
    "version": 3
   },
   "file_extension": ".py",
   "mimetype": "text/x-python",
   "name": "python",
   "nbconvert_exporter": "python",
   "pygments_lexer": "ipython3",
   "version": "3.12.7"
  }
 },
 "nbformat": 4,
 "nbformat_minor": 5
}
