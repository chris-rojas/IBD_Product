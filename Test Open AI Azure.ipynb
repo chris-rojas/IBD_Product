{
 "cells": [
  {
   "cell_type": "code",
   "execution_count": 1,
   "id": "c5e97bea",
   "metadata": {},
   "outputs": [],
   "source": [
    "import os\n",
    "from langchain_community.document_loaders import TextLoader\n",
    "from langchain_community.vectorstores import FAISS\n",
    "from langchain_openai import AzureOpenAIEmbeddings\n",
    "from langchain.embeddings import OpenAIEmbeddings\n",
    "from langchain_text_splitters import RecursiveCharacterTextSplitter\n",
    "from langchain_community.document_loaders import PyPDFDirectoryLoader"
   ]
  },
  {
   "cell_type": "code",
   "execution_count": 2,
   "id": "aac703e6-ed09-4111-ab8d-79d5d4a72ee4",
   "metadata": {},
   "outputs": [],
   "source": [
    "# !python -m pip install langchain-openai==0.0.6 openai==1.12.0 langchain python-dotenv faiss-cpu pypdf"
   ]
  },
  {
   "cell_type": "code",
   "execution_count": 3,
   "id": "0aeb11bc",
   "metadata": {},
   "outputs": [
    {
     "data": {
      "text/plain": [
       "True"
      ]
     },
     "execution_count": 3,
     "metadata": {},
     "output_type": "execute_result"
    }
   ],
   "source": [
    "from dotenv import load_dotenv\n",
    "load_dotenv(\".env\")"
   ]
  },
  {
   "cell_type": "code",
   "execution_count": 5,
   "id": "f83ec3db",
   "metadata": {},
   "outputs": [
    {
     "name": "stderr",
     "output_type": "stream",
     "text": [
      "/opt/anaconda3/envs/hackathon_venv/lib/python3.12/site-packages/langchain_core/_api/deprecation.py:119: LangChainDeprecationWarning: The class `AzureChatOpenAI` was deprecated in LangChain 0.0.10 and will be removed in 0.3.0. An updated version of the class exists in the langchain-openai package and should be used instead. To use it run `pip install -U langchain-openai` and import as `from langchain_openai import AzureChatOpenAI`.\n",
      "  warn_deprecated(\n"
     ]
    }
   ],
   "source": [
    "from langchain.chat_models import AzureChatOpenAI\n",
    "llm = AzureChatOpenAI(\n",
    "    azure_deployment=os.getenv('AZURE_OPENAI_CHAT_DEPLOYMENT'),\n",
    "    azure_endpoint=os.getenv('AZURE_OPENAI_CHAT_ENDPOINT'),\n",
    "    openai_api_key=os.getenv('AZURE_OPENAI_CHAT_API_KEY'),\n",
    "    api_version=os.getenv('AZURE_OPENAI_CHAT_VERSION'),\n",
    "    verbose=False,\n",
    "    temperature=0.3,\n",
    ")"
   ]
  },
  {
   "cell_type": "code",
   "execution_count": 6,
   "id": "53b7f6a4",
   "metadata": {},
   "outputs": [],
   "source": [
    "from langchain.schema import (\n",
    "    SystemMessage,\n",
    "    HumanMessage,\n",
    "    AIMessage\n",
    ")\n",
    "prompt = \"Provide a detailed company overview for a pitch book presentation.\"\n",
    "messages = [\n",
    "    SystemMessage(content=f\"You are an assistant helping with investment banking slides.  {prompt}\" )                \n",
    "]"
   ]
  },
  {
   "cell_type": "code",
   "execution_count": 7,
   "id": "222b6a24",
   "metadata": {},
   "outputs": [
    {
     "name": "stderr",
     "output_type": "stream",
     "text": [
      "/opt/anaconda3/envs/hackathon_venv/lib/python3.12/site-packages/langchain_core/_api/deprecation.py:119: LangChainDeprecationWarning: The method `BaseChatModel.__call__` was deprecated in langchain-core 0.1.7 and will be removed in 0.3.0. Use invoke instead.\n",
      "  warn_deprecated(\n"
     ]
    },
    {
     "data": {
      "text/plain": [
       "\"Company Overview: XYZ Corporation\\n\\nIntroduction:\\nXYZ Corporation is a leading global technology company that specializes in the development and distribution of innovative software and hardware solutions. The company was founded in 1995 and has since grown to become one of the most respected and recognized brands in the technology industry.\\n\\nProducts and Services:\\nXYZ Corporation offers a wide range of products and services that cater to the needs of businesses and individuals alike. The company's flagship product is its operating system, which is used by millions of people around\""
      ]
     },
     "execution_count": 7,
     "metadata": {},
     "output_type": "execute_result"
    }
   ],
   "source": [
    "response = llm(\n",
    "        messages= messages,\n",
    "        max_tokens=100,\n",
    "        temperature=0.2,\n",
    "    )\n",
    "response.content"
   ]
  },
  {
   "cell_type": "code",
   "execution_count": 9,
   "id": "cfc88976",
   "metadata": {},
   "outputs": [],
   "source": [
    "embeddings = AzureOpenAIEmbeddings(\n",
    "        azure_deployment=os.getenv('AZURE_OPENAI_EMBEDDINGS_DEPLOYMENT'),\n",
    "        azure_endpoint=os.getenv('AZURE_OPENAI_EMBEDDINGS_ENDPOINT'),\n",
    "        api_key=os.getenv('AZURE_OPENAI_EMBEDDINGS_API_KEY'),\n",
    "        api_version=os.getenv('AZURE_OPENAI_EMBEDDINGS_VERSION')\n",
    "    )"
   ]
  },
  {
   "cell_type": "code",
   "execution_count": 10,
   "id": "8a9e1de0",
   "metadata": {},
   "outputs": [],
   "source": [
    "def create_vector_database(txt_path):\n",
    "    loader=PyPDFDirectoryLoader(txt_path)\n",
    "    docs=loader.load()\n",
    "\n",
    "    documents = RecursiveCharacterTextSplitter(\n",
    "        chunk_size=1000, separators=[\"\\n\",\"\\n\\n\"], chunk_overlap=200\n",
    "    ).split_documents(docs)\n",
    "\n",
    "    embeddings = AzureOpenAIEmbeddings(\n",
    "        azure_deployment=os.getenv('AZURE_OPENAI_EMBEDDINGS_DEPLOYMENT'),\n",
    "        azure_endpoint=os.getenv('AZURE_OPENAI_EMBEDDINGS_ENDPOINT'),\n",
    "        api_key=os.getenv('AZURE_OPENAI_EMBEDDINGS_API_KEY'),\n",
    "        api_version=os.getenv('AZURE_OPENAI_EMBEDDINGS_VERSION')\n",
    "    )\n",
    "    db = FAISS.from_documents(\n",
    "        documents=documents,\n",
    "        embedding=embeddings\n",
    "    )\n",
    "    db.save_local(\"./faiss-db\")"
   ]
  },
  {
   "cell_type": "code",
   "execution_count": 11,
   "id": "efde6c24",
   "metadata": {},
   "outputs": [],
   "source": [
    "create_vector_database('10k')"
   ]
  },
  {
   "cell_type": "code",
   "execution_count": 12,
   "id": "4016974a",
   "metadata": {},
   "outputs": [],
   "source": [
    "from langchain.prompts import PromptTemplate"
   ]
  },
  {
   "cell_type": "code",
   "execution_count": 13,
   "id": "bb7c9466",
   "metadata": {},
   "outputs": [],
   "source": [
    "prompt_template = \"\"\"\n",
    "Human: Use the following pieces of context to provide a \n",
    "concise answer to the question at the end but use atleast summarize with \n",
    "250 words with detailed explantions. If you don't know the answer, \n",
    "just say that you don't know, don't try to make up an answer.\n",
    "<context>\n",
    "{context}\n",
    "</context\n",
    "\n",
    "Question: {question}\n",
    "\n",
    "Assistant:\"\"\""
   ]
  },
  {
   "cell_type": "code",
   "execution_count": 14,
   "id": "a8140ca1",
   "metadata": {},
   "outputs": [],
   "source": [
    "PROMPT = PromptTemplate(\n",
    "    template=prompt_template, input_variables=[\"context\", \"question\"]\n",
    ")"
   ]
  },
  {
   "cell_type": "code",
   "execution_count": 15,
   "id": "d494c79b",
   "metadata": {},
   "outputs": [],
   "source": [
    "vectorstore = FAISS.load_local(\"./faiss-db\", embeddings, allow_dangerous_deserialization=True)"
   ]
  },
  {
   "cell_type": "code",
   "execution_count": 16,
   "id": "3e56a2f2-d0a6-41c8-8bc2-18bcda9cf278",
   "metadata": {},
   "outputs": [],
   "source": [
    "retriever = vectorstore.as_retriever()"
   ]
  },
  {
   "cell_type": "code",
   "execution_count": 17,
   "id": "99772482",
   "metadata": {},
   "outputs": [],
   "source": [
    "question = \"Get the company performance\""
   ]
  },
  {
   "cell_type": "code",
   "execution_count": 18,
   "id": "2f7402b2",
   "metadata": {},
   "outputs": [],
   "source": [
    "from langchain_core.output_parsers import StrOutputParser\n",
    "from langchain_core.runnables import RunnablePassthrough"
   ]
  },
  {
   "cell_type": "code",
   "execution_count": 19,
   "id": "705fe35f",
   "metadata": {},
   "outputs": [],
   "source": [
    "rag_chain = (\n",
    "    {\"context\": vectorstore.as_retriever(search_kwargs={\"k\": 1}), \"question\": RunnablePassthrough()}\n",
    "    | PROMPT\n",
    "    | llm\n",
    "    | StrOutputParser()\n",
    ")"
   ]
  },
  {
   "cell_type": "code",
   "execution_count": 20,
   "id": "6880f2b6",
   "metadata": {},
   "outputs": [
    {
     "name": "stdout",
     "output_type": "stream",
     "text": [
      "The provided context shows a graph comparing the five-year cumulative total shareholder return of Apple Inc., the S&P 500 Index, and the Dow Jones U.S. Technology Supersector Index. The graph assumes $100 was invested in each of the three options as of September 28, 2018. The past stock price performance is not necessarily indicative of future stock price performance. According to the graph, as of September 30, 2023, Apple Inc. had a cumulative total return of $317, while the S&P 500 Index had a cumulative total return of $160. Therefore, based on this information, Apple Inc. has outperformed the S&P 500 Index in terms of cumulative total shareholder return over the past five years.\n"
     ]
    }
   ],
   "source": [
    "print(rag_chain.invoke(question))"
   ]
  },
  {
   "cell_type": "code",
   "execution_count": 21,
   "id": "f25b816b",
   "metadata": {},
   "outputs": [
    {
     "name": "stderr",
     "output_type": "stream",
     "text": [
      "/opt/anaconda3/envs/hackathon_venv/lib/python3.12/site-packages/langchain_core/_api/deprecation.py:119: LangChainDeprecationWarning: The method `BaseRetriever.get_relevant_documents` was deprecated in langchain-core 0.1.46 and will be removed in 0.3.0. Use invoke instead.\n",
      "  warn_deprecated(\n"
     ]
    },
    {
     "data": {
      "text/plain": [
       "150"
      ]
     },
     "execution_count": 21,
     "metadata": {},
     "output_type": "execute_result"
    }
   ],
   "source": [
    "len(retriever.get_relevant_documents(question)[0].page_content.split(\" \"))"
   ]
  },
  {
   "cell_type": "code",
   "execution_count": null,
   "id": "71be19dc-c3fb-4d27-ac64-55abb76224f9",
   "metadata": {},
   "outputs": [],
   "source": []
  }
 ],
 "metadata": {
  "kernelspec": {
   "display_name": "Python 3 (ipykernel)",
   "language": "python",
   "name": "python3"
  },
  "language_info": {
   "codemirror_mode": {
    "name": "ipython",
    "version": 3
   },
   "file_extension": ".py",
   "mimetype": "text/x-python",
   "name": "python",
   "nbconvert_exporter": "python",
   "pygments_lexer": "ipython3",
   "version": "3.12.7"
  }
 },
 "nbformat": 4,
 "nbformat_minor": 5
}
