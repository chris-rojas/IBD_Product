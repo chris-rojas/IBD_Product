{
 "cells": [
  {
   "cell_type": "code",
   "execution_count": 1,
   "id": "7bc572b6-6a0b-4c0e-af6a-985d3f725834",
   "metadata": {
    "scrolled": true
   },
   "outputs": [],
   "source": [
    "# !python -m pip install langchain-openai==0.0.6 openai==1.12.0 langchain python-dotenv"
   ]
  },
  {
   "cell_type": "code",
   "execution_count": 2,
   "id": "b947cc8d-45cc-4fb6-94bb-45c6c37b9a98",
   "metadata": {},
   "outputs": [],
   "source": [
    "from langchain_openai import AzureChatOpenAI\n",
    "from langchain.schema import HumanMessage\n",
    "import openai\n",
    "import os\n",
    "from IPython.display import Markdown"
   ]
  },
  {
   "cell_type": "code",
   "execution_count": 7,
   "id": "afbae58d-684f-4bdb-83a8-ed9a16de360c",
   "metadata": {},
   "outputs": [
    {
     "data": {
      "text/plain": [
       "True"
      ]
     },
     "execution_count": 7,
     "metadata": {},
     "output_type": "execute_result"
    }
   ],
   "source": [
    "from dotenv import load_dotenv\n",
    "load_dotenv(\".env\")"
   ]
  },
  {
   "cell_type": "code",
   "execution_count": 11,
   "id": "016cdfb3-c3da-4962-9914-6841d3f3e706",
   "metadata": {},
   "outputs": [
    {
     "data": {
      "text/markdown": [
       "A solar eclipse occurs when the moon passes between the sun and the earth, blocking the sun's light and creating a shadow on the earth's surface. There are three types of solar eclipses: total, partial, and annular. \n",
       "\n",
       "A total solar eclipse occurs when the moon completely covers the sun, leaving only the sun's corona visible. This is a rare event that only occurs in a specific path of totality. During a total solar eclipse, the sky turns dark, stars become visible, and animals may behave differently.\n",
       "\n",
       "A partial solar eclipse occurs when the moon only partially covers the sun, creating a crescent shape. This is more common than a total solar eclipse and can be seen from a larger area on the earth's surface.\n",
       "\n",
       "An annular solar eclipse occurs when the moon is further away from the earth, appearing smaller in the sky, and does not completely cover the sun. This creates a \"ring of fire\" effect, where the sun appears as a bright ring around the moon.\n",
       "\n",
       "It is important to never look directly at the sun during a solar eclipse without proper eye protection, as it can cause permanent eye damage."
      ],
      "text/plain": [
       "<IPython.core.display.Markdown object>"
      ]
     },
     "metadata": {},
     "output_type": "display_data"
    }
   ],
   "source": [
    "llm = AzureChatOpenAI(azure_deployment=os.getenv(\"AZURE_OPENAI_CHAT_DEPLOYMENT\"),\n",
    "                        azure_endpoint=os.getenv(\"AZURE_OPENAI_CHAT_ENDPOINT\"),\n",
    "                        openai_api_key=os.getenv(\"AZURE_OPENAI_CHAT_API_KEY\"),\n",
    "                        api_version=os.getenv(\"AZURE_OPENAI_CHAT_VERSION\"))\n",
    "message = HumanMessage(\n",
    "    content=\"Tell me about solar eclipse.\",\n",
    ")\n",
    "\n",
    "result = llm.invoke([message])\n",
    "display(Markdown(result.content))"
   ]
  },
  {
   "cell_type": "code",
   "execution_count": 12,
   "id": "cce5a34d-0e7e-40ba-a101-7b55994789ea",
   "metadata": {},
   "outputs": [
    {
     "data": {
      "text/plain": [
       "IPython.core.display.Markdown"
      ]
     },
     "execution_count": 12,
     "metadata": {},
     "output_type": "execute_result"
    }
   ],
   "source": [
    "Markdown"
   ]
  },
  {
   "cell_type": "code",
   "execution_count": null,
   "id": "88607cc1-7e5c-49c8-8268-341a71cf4333",
   "metadata": {},
   "outputs": [],
   "source": []
  }
 ],
 "metadata": {
  "kernelspec": {
   "display_name": "Python 3 (ipykernel)",
   "language": "python",
   "name": "python3"
  },
  "language_info": {
   "codemirror_mode": {
    "name": "ipython",
    "version": 3
   },
   "file_extension": ".py",
   "mimetype": "text/x-python",
   "name": "python",
   "nbconvert_exporter": "python",
   "pygments_lexer": "ipython3",
   "version": "3.12.7"
  }
 },
 "nbformat": 4,
 "nbformat_minor": 5
}
